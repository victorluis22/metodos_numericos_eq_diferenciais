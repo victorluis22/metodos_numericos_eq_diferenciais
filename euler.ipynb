{
  "nbformat": 4,
  "nbformat_minor": 0,
  "metadata": {
    "colab": {
      "provenance": []
    },
    "kernelspec": {
      "name": "python3",
      "display_name": "Python 3"
    },
    "language_info": {
      "name": "python"
    }
  },
  "cells": [
    {
      "cell_type": "code",
      "execution_count": 29,
      "metadata": {
        "colab": {
          "base_uri": "https://localhost:8080/"
        },
        "id": "K2iAnFg9fj5u",
        "outputId": "db987f73-a3fb-4711-e87f-f9f0701d1af1"
      },
      "outputs": [
        {
          "output_type": "stream",
          "name": "stdout",
          "text": [
            "===========Euler Method============\n",
            "\n",
            "Iteraction 1: y(0.1) = 1.0841470984807897\n",
            "Iteraction 2: y(0.2) = 1.142537584710098\n",
            "Iteraction 3: y(0.30000000000000004) = 1.173506609801116\n",
            "\n",
            "Result: y(0.3) = 1.173506609801116\n"
          ]
        }
      ],
      "source": [
        "\"\"\"\n",
        "  Euler's method\n",
        "\n",
        "  Problem: dy/dx = f(x,y) = sen(y) - 3x\n",
        "  Initial Condition: y(0) = 1.0\n",
        "  Objective: y(0.3) = ?\n",
        "  Method: yi+1 = yi + f(xi, yi)Δx\n",
        "\"\"\"\n",
        "import math\n",
        "\n",
        "def f(x, y):\n",
        "  return math.sin(y) - 3*x\n",
        "\n",
        "def euler(x_0, y_0, delta_x, x):\n",
        "  counter = 0\n",
        "  actual_x = x_0\n",
        "  actual_y = y_0\n",
        "\n",
        "  if x_0 < x:\n",
        "    while actual_x < x:\n",
        "      actual_y = actual_y + f(actual_x, actual_y) * delta_x\n",
        "      actual_x += delta_x\n",
        "      counter += 1\n",
        "\n",
        "      print(f'Iteraction {counter}: y({actual_x}) = {actual_y}')\n",
        "  else:\n",
        "    while actual_x > x:\n",
        "      actual_y = actual_y + f(actual_x, actual_y) * delta_x\n",
        "      actual_x -= delta_x\n",
        "      counter += 1\n",
        "\n",
        "      print(f'Iteraction {counter}: y({actual_x}) = {actual_y}')\n",
        "\n",
        "  return actual_y\n",
        "\n",
        "\n",
        "def start():\n",
        "  delta_x = 0.1\n",
        "  y_0 = 1\n",
        "  x_0 = 0\n",
        "  x = 0.3\n",
        "\n",
        "  print(f'===========Euler Method============\\n')\n",
        "\n",
        "  y = euler(x_0, y_0, delta_x, x)\n",
        "\n",
        "  print(f'\\nResult: y({x}) = {y}')\n",
        "\n",
        "if __name__ == '__main__':\n",
        "    start()\n"
      ]
    }
  ]
}