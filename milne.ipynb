{
 "cells": [
  {
   "cell_type": "code",
   "execution_count": null,
   "metadata": {},
   "outputs": [],
   "source": [
    "\"\"\"\n",
    "  Milne method\n",
    "\n",
    "  Problem: dy/dx = f(x,y) = 4*exp(0.8*x) - 0.5*y\n",
    "  Initial Condition: y(0) = 2\n",
    "  Objective: y(4.0) = ?\n",
    "  Method: yi+1 = yi-1 + (1/3)*(f(xi-1, yi-1) + 4*f(xi, yi) + f(xi+1, yi+1')) * Δx\n",
    "\"\"\"\n",
    "from math import *\n",
    "\n",
    "def f(x, y):\n",
    "  return 4*exp(0.8*x) - 0.5*y\n",
    "\n",
    "def milne(initial_x, initial_y, delta_x, x):\n",
    "  counter = 0\n",
    "  x_i = initial_x\n",
    "  y_i = initial_y\n",
    "\n",
    "  while x_i[0] < x:\n",
    "    prediction_y = y_i[3] + (4/3)*(2*f(x_i[0], y_i[0]) - f(x_i[1], y_i[1]) + 2*f(x_i[2], y_i[2]))*delta_x \n",
    "    correction_y = y_i[1] + (1/3)*(f(x_i[1], y_i[1]) + 4*f(x_i[0], y_i[0]) + f(x_i[0] + delta_x, prediction_y))*delta_x\n",
    "\n",
    "\n",
    "    x_i = [x + delta_x for x in x_i]\n",
    "    y_i[3] = y_i[2]\n",
    "    y_i[2] = y_i[1]\n",
    "    y_i[1] = y_i[0]\n",
    "    y_i[0] = correction_y\n",
    "    \n",
    "    counter += 1\n",
    "\n",
    "    print(f'Iteraction {counter}: y({x_i[0]}) = {y_i[0]}')\n",
    "\n",
    "  return y_i[0]\n",
    "\n",
    "def start():\n",
    "  initial_x = [0.0, -1.0, -2.0, -3.0]\n",
    "  initial_y = [2.0, -0.3929953, -2.306160, -4.547302] # [yi, yi-1, yi-2, yi-3]\n",
    "  delta_x = 1.0\n",
    "  x = 4.0\n",
    "\n",
    "  print(f'===========Milne Method============\\n')\n",
    "\n",
    "  y = milne(initial_x, initial_y, delta_x, x)\n",
    "\n",
    "  print(f'\\nResult: y({x}) = {y}')\n",
    "\n",
    "if __name__ == '__main__':\n",
    "    start()\n"
   ]
  }
 ],
 "metadata": {
  "language_info": {
   "name": "python"
  }
 },
 "nbformat": 4,
 "nbformat_minor": 2
}
