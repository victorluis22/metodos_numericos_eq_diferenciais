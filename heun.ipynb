{
  "cells": [
    {
      "cell_type": "code",
      "execution_count": 2,
      "metadata": {
        "colab": {
          "base_uri": "https://localhost:8080/"
        },
        "id": "K2iAnFg9fj5u",
        "outputId": "f3dc8a6a-7f6c-459c-fe8a-55873edafbbd"
      },
      "outputs": [
        {
          "name": "stdout",
          "output_type": "stream",
          "text": [
            "===========Heun Method============\n",
            "\n",
            "Iteraction 1: y(0.1) = 2.805\n",
            "\n",
            "Result: y(0.1) = 2.805\n"
          ]
        }
      ],
      "source": [
        "\"\"\"\n",
        "  Heun's method\n",
        "\n",
        "  Problem: dy/dx = f(x,y) = - y + 1 - x\n",
        "  Initial Condition: y(0) = 3.0\n",
        "  Objective: y(0.1) = ?\n",
        "  Method: yi+1 = yi + ((f(xi, yi) + f(xi+1, yi+1'))/2) * Δx\n",
        "\"\"\"\n",
        "import math\n",
        "\n",
        "def f(x, y):\n",
        "  return - y + 1 - x\n",
        "\n",
        "def heun(x_0, y_0, delta_x, x):\n",
        "  counter = 0\n",
        "  x_i = x_0\n",
        "  y_i = y_0\n",
        "\n",
        "  while x_i < x:\n",
        "    next_y_aprox = y_i + f(x_i, y_i) * delta_x # Euler's method trying to aproximate next y\n",
        "    y_i = y_i + ((f(x_i, y_i) + f(x_i + delta_x, next_y_aprox))/2) * delta_x\n",
        "    x_i += delta_x\n",
        "    counter += 1\n",
        "\n",
        "    print(f'Iteraction {counter}: y({x_i}) = {y_i}')\n",
        "\n",
        "  return y_i\n",
        "\n",
        "def start():\n",
        "  delta_x = 0.1\n",
        "  y_0 = 3.0\n",
        "  x_0 = 0\n",
        "  x = 0.1\n",
        "\n",
        "  print(f'===========Heun Method============\\n')\n",
        "\n",
        "  y = heun(x_0, y_0, delta_x, x)\n",
        "\n",
        "  print(f'\\nResult: y({x}) = {y}')\n",
        "\n",
        "if __name__ == '__main__':\n",
        "  start()\n"
      ]
    }
  ],
  "metadata": {
    "colab": {
      "provenance": []
    },
    "kernelspec": {
      "display_name": "Python 3",
      "name": "python3"
    },
    "language_info": {
      "codemirror_mode": {
        "name": "ipython",
        "version": 3
      },
      "file_extension": ".py",
      "mimetype": "text/x-python",
      "name": "python",
      "nbconvert_exporter": "python",
      "pygments_lexer": "ipython3",
      "version": "3.12.1"
    }
  },
  "nbformat": 4,
  "nbformat_minor": 0
}
