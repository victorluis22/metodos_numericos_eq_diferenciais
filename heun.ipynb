{
  "nbformat": 4,
  "nbformat_minor": 0,
  "metadata": {
    "colab": {
      "provenance": []
    },
    "kernelspec": {
      "name": "python3",
      "display_name": "Python 3"
    },
    "language_info": {
      "name": "python"
    }
  },
  "cells": [
    {
      "cell_type": "code",
      "execution_count": 28,
      "metadata": {
        "colab": {
          "base_uri": "https://localhost:8080/"
        },
        "id": "K2iAnFg9fj5u",
        "outputId": "f3dc8a6a-7f6c-459c-fe8a-55873edafbbd"
      },
      "outputs": [
        {
          "output_type": "stream",
          "name": "stdout",
          "text": [
            "===========Heun Method============\n",
            "\n",
            "Iteraction 1: y(0.1) = 2.805\n",
            "\n",
            "Result: y(0.1) = 2.805\n"
          ]
        }
      ],
      "source": [
        "\"\"\"\n",
        "  Heun's method\n",
        "\n",
        "  Problem: dy/dx = f(x,y) = - y + 1 - x\n",
        "  Initial Condition: y(0) = 3.0\n",
        "  Objective: y(0.1) = ?\n",
        "  Method: yi+1 = yi + ((f(xi, yi) + f(xi+1, yi+1'))/2) * Δx\n",
        "\"\"\"\n",
        "import math\n",
        "\n",
        "def f(x, y):\n",
        "  return - y + 1 - x\n",
        "\n",
        "def heun(x_0, y_0, delta_x, x):\n",
        "  counter = 0\n",
        "  actual_x = x_0\n",
        "  actual_y = y_0\n",
        "\n",
        "  if x_0 < x:\n",
        "    while actual_x < x:\n",
        "      next_y_aprox = actual_y + f(actual_x, actual_y) * delta_x # Euler's method trying to aproximate next y\n",
        "      actual_y = actual_y + ((f(actual_x, actual_y) + f(actual_x + delta_x, next_y_aprox))/2) * delta_x\n",
        "      actual_x += delta_x\n",
        "      counter += 1\n",
        "\n",
        "      print(f'Iteraction {counter}: y({actual_x}) = {actual_y}')\n",
        "  else:\n",
        "    while actual_x > x:\n",
        "      next_y_aprox = actual_y + f(actual_x, actual_y) * delta_x # Euler's method trying to aproximate next y\n",
        "      actual_y = actual_y + ((f(actual_x, actual_y) + f(actual_x + delta_x, next_y_aprox))/2) * delta_x\n",
        "      actual_x -= delta_x\n",
        "      counter += 1\n",
        "\n",
        "      print(f'Iteraction {counter}: y({actual_x}) = {actual_y}')\n",
        "\n",
        "  return actual_y\n",
        "\n",
        "def start():\n",
        "  delta_x = 0.1\n",
        "  y_0 = 3.0\n",
        "  x_0 = 0\n",
        "  x = 0.1\n",
        "\n",
        "  print(f'===========Heun Method============\\n')\n",
        "\n",
        "  y = heun(x_0, y_0, delta_x, x)\n",
        "\n",
        "  print(f'\\nResult: y({x}) = {y}')\n",
        "\n",
        "if __name__ == '__main__':\n",
        "    start()\n"
      ]
    }
  ]
}