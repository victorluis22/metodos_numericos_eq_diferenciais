{
 "cells": [
  {
   "cell_type": "code",
   "execution_count": 1,
   "metadata": {},
   "outputs": [
    {
     "name": "stdout",
     "output_type": "stream",
     "text": [
      "===========Runge Kutta Method============\n",
      "\n",
      "Iteraction 1: y(0.5) = 1.4251302083333333\n",
      "Iteraction 2: y(1.0) = 2.6396026611328125\n",
      "Iteraction 3: y(1.5) = 4.006818970044454\n",
      "Iteraction 4: y(2.0) = 5.301605229265987\n",
      "\n",
      "Result: y(2.0) = 5.301605229265987\n"
     ]
    }
   ],
   "source": [
    "\"\"\"\n",
    "  Runge-Kutta method\n",
    "\n",
    "  Problem: dy/dx = f(x,y) = y - x**2 + 1\n",
    "  Initial Condition: y(0) = 0.5\n",
    "  Objective: y(2.0) = ?\n",
    "  Method: yi+1 = yi + (1/6)*(k1 + 2*k2 + 2*k3 + k4) * Δx\n",
    "\"\"\"\n",
    "import math\n",
    "\n",
    "def f(x, y):\n",
    "  return y - (x**2) + 1\n",
    "\n",
    "def runge_kutta(x_0, y_0, delta_x, x):\n",
    "  counter = 0\n",
    "  x_i = x_0\n",
    "  y_i = y_0\n",
    "\n",
    "  while x_i < x:\n",
    "    k1 = f(x_i, y_i)\n",
    "    k2 = f(x_i + (delta_x/2), y_i + (k1*(delta_x/2)))\n",
    "    k3 = f(x_i + (delta_x/2), y_i + (k2*(delta_x/2)))\n",
    "    k4 = f(x_i + delta_x, y_i + (k3*delta_x))\n",
    "\n",
    "    y_i = y_i + ((1/6)*(k1 + 2*k2 + 2*k3 + k4) * delta_x)\n",
    "    x_i += delta_x\n",
    "    \n",
    "    counter += 1\n",
    "\n",
    "    print(f'Iteraction {counter}: y({x_i}) = {y_i}')\n",
    "\n",
    "  return y_i\n",
    "\n",
    "def start():\n",
    "  delta_x = 0.5\n",
    "  y_0 = 0.5\n",
    "  x_0 = 0\n",
    "  x = 2.0\n",
    "\n",
    "  print(f'===========Runge Kutta Method============\\n')\n",
    "\n",
    "  y = runge_kutta(x_0, y_0, delta_x, x)\n",
    "\n",
    "  print(f'\\nResult: y({x}) = {y}')\n",
    "\n",
    "if __name__ == '__main__':\n",
    "    start()\n"
   ]
  }
 ],
 "metadata": {
  "kernelspec": {
   "display_name": "metodos_numericos_eq_diferenciais",
   "language": "python",
   "name": "python3"
  },
  "language_info": {
   "codemirror_mode": {
    "name": "ipython",
    "version": 3
   },
   "file_extension": ".py",
   "mimetype": "text/x-python",
   "name": "python",
   "nbconvert_exporter": "python",
   "pygments_lexer": "ipython3",
   "version": "3.12.1"
  }
 },
 "nbformat": 4,
 "nbformat_minor": 2
}
