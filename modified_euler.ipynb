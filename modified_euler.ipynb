{
  "cells": [
    {
      "cell_type": "code",
      "execution_count": 3,
      "metadata": {
        "colab": {
          "base_uri": "https://localhost:8080/"
        },
        "id": "K2iAnFg9fj5u",
        "outputId": "84844537-46b2-401d-e1b5-f9f85d57550c"
      },
      "outputs": [
        {
          "name": "stdout",
          "output_type": "stream",
          "text": [
            "===========Modified Euler Method============\n",
            "\n",
            "Iteraction 1: y(0.1) = 0.8200113104677255\n",
            "Iteraction 2: y(0.2) = 0.6726511134254842\n",
            "\n",
            "Result: y(0.2) = 0.6726511134254842\n"
          ]
        }
      ],
      "source": [
        "\"\"\"\n",
        "  Modified Euler method\n",
        "\n",
        "  Problem: dy/dx = f(x,y) = (x**3)*e**(-2*x) - 2*y\n",
        "  Initial Condition: y(0) = 1.0\n",
        "  Objective: y(0.2) = ?\n",
        "  Method: yi+1 = yi + f(xi+1/2, yi+1/2) * Δx\n",
        "\"\"\"\n",
        "import math\n",
        "\n",
        "def f(x, y):\n",
        "  return (x**3)*math.e**(-2*x) - 2*y\n",
        "\n",
        "def modified_euler(x_0, y_0, delta_x, x):\n",
        "  counter = 0\n",
        "  x_i = x_0\n",
        "  y_i = y_0\n",
        "\n",
        "  while x_i < x:\n",
        "    half_y_aprox = y_i + f(x_i, y_i) * (delta_x/2) # Euler's method trying to aproximate next half y\n",
        "    y_i = y_i + f(x_i + (delta_x/2), half_y_aprox) * delta_x\n",
        "    x_i += delta_x\n",
        "    counter += 1\n",
        "\n",
        "    print(f'Iteraction {counter}: y({x_i}) = {y_i}')\n",
        "\n",
        "  return y_i\n",
        "\n",
        "def start():\n",
        "  delta_x = 0.1\n",
        "  y_0 = 1.0\n",
        "  x_0 = 0\n",
        "  x = 0.2\n",
        "\n",
        "  print(f'===========Modified Euler Method============\\n')\n",
        "\n",
        "  y = modified_euler(x_0, y_0, delta_x, x)\n",
        "\n",
        "  print(f'\\nResult: y({x}) = {y}')\n",
        "\n",
        "if __name__ == '__main__':\n",
        "  start()\n"
      ]
    }
  ],
  "metadata": {
    "colab": {
      "provenance": []
    },
    "kernelspec": {
      "display_name": "Python 3",
      "name": "python3"
    },
    "language_info": {
      "codemirror_mode": {
        "name": "ipython",
        "version": 3
      },
      "file_extension": ".py",
      "mimetype": "text/x-python",
      "name": "python",
      "nbconvert_exporter": "python",
      "pygments_lexer": "ipython3",
      "version": "3.12.1"
    }
  },
  "nbformat": 4,
  "nbformat_minor": 0
}
